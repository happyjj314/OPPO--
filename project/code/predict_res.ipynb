{
 "metadata": {
  "language_info": {
   "codemirror_mode": {
    "name": "ipython",
    "version": 3
   },
   "file_extension": ".py",
   "mimetype": "text/x-python",
   "name": "python",
   "nbconvert_exporter": "python",
   "pygments_lexer": "ipython3",
   "version": "3.8.7-final"
  },
  "orig_nbformat": 2,
  "kernelspec": {
   "name": "python3",
   "display_name": "Python 3.8.7 64-bit",
   "metadata": {
    "interpreter": {
     "hash": "15ced69c719392cfc54c31e751760c86abc4663780e82c1c0a6943695bbe0012"
    }
   }
  }
 },
 "nbformat": 4,
 "nbformat_minor": 2,
 "cells": [
  {
   "cell_type": "code",
   "execution_count": 1,
   "metadata": {},
   "outputs": [],
   "source": [
    "import pandas as pd"
   ]
  },
  {
   "cell_type": "code",
   "execution_count": 11,
   "metadata": {},
   "outputs": [],
   "source": [
    "train_first = pd.read_csv('gaiic_track3_round1_train_20210220.tsv',sep='\\t',header = 0)\n",
    "train_sec = pd.read_csv('gaiic_track3_round1_train_20210228.tsv',sep='\\t')"
   ]
  },
  {
   "cell_type": "code",
   "execution_count": 12,
   "metadata": {},
   "outputs": [
    {
     "output_type": "execute_result",
     "data": {
      "text/plain": [
       "            好无聊啊         啊好无聊啊  1\n",
       "0        我好想谈恋爱呀     我多想谈一场恋爱呀  1\n",
       "1      今天我四点就起床了  今天下午一点五十叫我起床  0\n",
       "2  现在不需要你了不要回来了你         不要回来了  1\n",
       "3     语音助手用不了怎么办   怎么用语音召唤小助手？  0\n",
       "4     人为什么要坐飞机呢？     为什么我手机这么卡  0"
      ],
      "text/html": "<div>\n<style scoped>\n    .dataframe tbody tr th:only-of-type {\n        vertical-align: middle;\n    }\n\n    .dataframe tbody tr th {\n        vertical-align: top;\n    }\n\n    .dataframe thead th {\n        text-align: right;\n    }\n</style>\n<table border=\"1\" class=\"dataframe\">\n  <thead>\n    <tr style=\"text-align: right;\">\n      <th></th>\n      <th>好无聊啊</th>\n      <th>啊好无聊啊</th>\n      <th>1</th>\n    </tr>\n  </thead>\n  <tbody>\n    <tr>\n      <th>0</th>\n      <td>我好想谈恋爱呀</td>\n      <td>我多想谈一场恋爱呀</td>\n      <td>1</td>\n    </tr>\n    <tr>\n      <th>1</th>\n      <td>今天我四点就起床了</td>\n      <td>今天下午一点五十叫我起床</td>\n      <td>0</td>\n    </tr>\n    <tr>\n      <th>2</th>\n      <td>现在不需要你了不要回来了你</td>\n      <td>不要回来了</td>\n      <td>1</td>\n    </tr>\n    <tr>\n      <th>3</th>\n      <td>语音助手用不了怎么办</td>\n      <td>怎么用语音召唤小助手？</td>\n      <td>0</td>\n    </tr>\n    <tr>\n      <th>4</th>\n      <td>人为什么要坐飞机呢？</td>\n      <td>为什么我手机这么卡</td>\n      <td>0</td>\n    </tr>\n  </tbody>\n</table>\n</div>"
     },
     "metadata": {},
     "execution_count": 12
    }
   ],
   "source": [
    "train_first.head()"
   ]
  },
  {
   "cell_type": "code",
   "execution_count": 13,
   "metadata": {},
   "outputs": [
    {
     "output_type": "execute_result",
     "data": {
      "text/plain": [
       "                1 2 3 4 5 6 7                          8 9 10 4 11  0\n",
       "0                 12 13 14 15                          12 15 11 16  0\n",
       "1  17 18 12 19 20 21 22 23 24                  12 23 25 6 26 27 19  1\n",
       "2              28 29 30 31 11                       32 33 34 30 31  1\n",
       "3                 29 35 36 29                          29 37 36 29  1\n",
       "4               38 23 39 9 40  12 19 41 42 23 43 12 23 44 41 42 19  0"
      ],
      "text/html": "<div>\n<style scoped>\n    .dataframe tbody tr th:only-of-type {\n        vertical-align: middle;\n    }\n\n    .dataframe tbody tr th {\n        vertical-align: top;\n    }\n\n    .dataframe thead th {\n        text-align: right;\n    }\n</style>\n<table border=\"1\" class=\"dataframe\">\n  <thead>\n    <tr style=\"text-align: right;\">\n      <th></th>\n      <th>1 2 3 4 5 6 7</th>\n      <th>8 9 10 4 11</th>\n      <th>0</th>\n    </tr>\n  </thead>\n  <tbody>\n    <tr>\n      <th>0</th>\n      <td>12 13 14 15</td>\n      <td>12 15 11 16</td>\n      <td>0</td>\n    </tr>\n    <tr>\n      <th>1</th>\n      <td>17 18 12 19 20 21 22 23 24</td>\n      <td>12 23 25 6 26 27 19</td>\n      <td>1</td>\n    </tr>\n    <tr>\n      <th>2</th>\n      <td>28 29 30 31 11</td>\n      <td>32 33 34 30 31</td>\n      <td>1</td>\n    </tr>\n    <tr>\n      <th>3</th>\n      <td>29 35 36 29</td>\n      <td>29 37 36 29</td>\n      <td>1</td>\n    </tr>\n    <tr>\n      <th>4</th>\n      <td>38 23 39 9 40</td>\n      <td>12 19 41 42 23 43 12 23 44 41 42 19</td>\n      <td>0</td>\n    </tr>\n  </tbody>\n</table>\n</div>"
     },
     "metadata": {},
     "execution_count": 13
    }
   ],
   "source": [
    "train_sec.head()"
   ]
  },
  {
   "cell_type": "code",
   "execution_count": null,
   "metadata": {},
   "outputs": [],
   "source": []
  }
 ]
}